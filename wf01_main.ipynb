{
 "cells": [
  {
   "cell_type": "markdown",
   "metadata": {},
   "source": [
    "### geostatistics generic workflow\n",
    "proof of concept of a full geostatistics workflow using only python and free modules. Jupyter as Platform.\n",
    "  \n",
    "v1.0 2024/05 paulo.ernesto  \n",
    "  \n",
    "*Those auxiliary scripts and modules must be available:*\n",
    " - _gui.py\n",
    " - workflowform.py\n",
    " - pd_vtk.py\n",
    " - db_linear_model.py\n",
    " - shell_vulcan.py\n",
    " - wf01.yaml\n",
    " - panel module (`pip install panel`)\n",
    "#### Notes\n",
    " - If the database is drillholes, it must be converted to samples. Generic tool: db_composite_runlength.bat\n",
    " - Its possible to add new fields to the input form by editing the .yaml file\n",
    " - The export BMF step will only generate a result if Maptek Vulcan is available"
   ]
  },
  {
   "cell_type": "code",
   "execution_count": null,
   "metadata": {},
   "outputs": [],
   "source": [
    "import sys, os.path, param, random, yaml, re\n",
    "import numpy as np\n",
    "import pandas as pd\n",
    "import holoviews as hv\n",
    "import panel as pn\n",
    "from IPython.display import Markdown\n",
    "from workflowform import WorkFlowForm\n",
    "from pd_vtk import pv_read, pv_save, vtk_mesh_info, vtk_samples_to_grid, vtk_mesh_to_df, vtk_array_ijk, vtk_linear_model_variables, vtk_krig_model_variables\n",
    "from _gui import pd_detect_xyz\n",
    "print('Python %d.%d.%d' % sys.version_info[:3])\n",
    "hv.extension('plotly')\n",
    "pn.extension('vtk')"
   ]
  },
  {
   "cell_type": "code",
   "execution_count": null,
   "metadata": {},
   "outputs": [],
   "source": [
    "display(Markdown('### dynamic input form with file persistence'))\n",
    "form = WorkFlowForm('wf01.yaml') \n",
    "pn.panel(form)"
   ]
  },
  {
   "cell_type": "code",
   "execution_count": null,
   "metadata": {},
   "outputs": [],
   "source": [
    "display(Markdown(chr(10).join(['key|value','---|---'] + [f'{k}|{v}' for k,v in form.items()])))\n",
    "df = pd.read_excel(form.get('sample_db'))\n",
    "df.mask(df == -99, inplace=True)\n",
    "xyz = pd_detect_xyz(df)\n",
    "display(Markdown('### load database:  \\n`%d records, %d fields`' % df.shape))"
   ]
  },
  {
   "cell_type": "code",
   "execution_count": null,
   "metadata": {},
   "outputs": [],
   "source": [
    "display(Markdown('### sample checks'))\n",
    "p = pn.layout.GridBox(ncols=2)\n",
    "p.append(hv.Points(df, kdims=xyz[:2], label='xy samples').opts(color=xyz[2]))\n",
    "for v in form.get('grade_fields'):\n",
    "  p.append(hv.BoxWhisker(df, kdims=form.get('lito_field'), vdims=v, label=f'{v} database boxplot'))\n",
    "p"
   ]
  },
  {
   "cell_type": "code",
   "execution_count": null,
   "metadata": {},
   "outputs": [],
   "source": [
    "display(Markdown('### grid create'))\n",
    "grid = vtk_samples_to_grid(df, str(form.get('grid_size')))\n",
    "grid.cells_volume('volume')\n",
    "print(vtk_mesh_info(grid))"
   ]
  },
  {
   "cell_type": "code",
   "execution_count": null,
   "metadata": {},
   "outputs": [],
   "source": [
    "if len(form.get('lito_mesh')):\n",
    "  display(Markdown('### flag lito solids'))\n",
    "  from vtk_flag_regions import vtk_flag_region\n",
    "  fn_litoname = lambda _: re.sub(r'.*_(.+)\\.\\w+', r'\\1', _)\n",
    "  vtk_flag_region(grid, list(map(pv_read, form.get('lito_mesh'))), form.get('lito_field'), True, list(map(fn_litoname , form.get('lito_mesh'))))\n",
    "else:\n",
    "  display(Markdown('### use default lito n'))\n",
    "  df[form.get('lito_field')] = 'n'\n",
    "  grid.cell_data[form.get('lito_field')] = np.full(grid.n_cells, 'n')"
   ]
  },
  {
   "cell_type": "code",
   "execution_count": null,
   "metadata": {},
   "outputs": [],
   "source": [
    "display(Markdown('### grade lito check'))\n",
    "p = pn.layout.GridBox(ncols=2)\n",
    "p.append(pd.pivot_table(vtk_mesh_to_df(grid), 'volume', form.get('lito_field'), None, 'sum'))\n",
    "for i in range(3):\n",
    "  p.append(hv.Image(grid.heatmap2d(form.get('lito_field'), i), label=chr(88 + i)).opts(xaxis='bare', yaxis='bare'))\n",
    "p"
   ]
  },
  {
   "cell_type": "code",
   "execution_count": null,
   "metadata": {},
   "outputs": [],
   "source": [
    "display(Markdown('### estimate grades by lito'))\n",
    "display(Markdown(f'`engine: {form.get(\"engine\")}`'))\n",
    "print(vtk_mesh_info(grid))\n",
    "if form.get('engine') == 'pykrig':\n",
    "  vtk_krig_model_variables(grid, df, form.get('grade_fields'), form.get('lito_field'), None)\n",
    "if form.get('engine') == 'scikit':\n",
    "  vtk_linear_model_variables(grid, df, form.get('grade_fields'), form.get('lito_field'))"
   ]
  },
  {
   "cell_type": "code",
   "execution_count": null,
   "metadata": {},
   "outputs": [],
   "source": [
    "display(Markdown('### grid grade checks'))\n",
    "display(pd.pivot_table(vtk_mesh_to_df(grid), form.get('grade_fields'), form.get('lito_field'), None, ['min','mean','max']))\n",
    "p = pn.layout.GridBox(ncols=3)\n",
    "for v in form.get('grade_fields'):\n",
    "  for i in range(3):\n",
    "    p.append(hv.Image(grid.heatmap2d(v, i), label=v + ' ' + chr(88 + i)).opts(xaxis='bare', yaxis='bare'))\n",
    "p"
   ]
  },
  {
   "cell_type": "code",
   "execution_count": null,
   "metadata": {},
   "outputs": [],
   "source": [
    "display(Markdown('### grid voxel view'))\n",
    "for v in form.get('grade_fields'):\n",
    "  display(Markdown(v))\n",
    "  display(pn.pane.VTKVolume(vtk_array_ijk(grid, v)))"
   ]
  },
  {
   "cell_type": "code",
   "execution_count": null,
   "metadata": {},
   "outputs": [],
   "source": [
    "display(Markdown('### grid reserves'))\n",
    "df_reserves = pd.pivot_table(vtk_mesh_to_df(grid), ['volume'] + form.get('grade_fields'), form.get('lito_field'), None, ['sum','mean'])\n",
    "xlsx = os.path.splitext(form.get('grid_file'))[0] + '.xlsx'\n",
    "df_reserves.to_excel(xlsx)\n",
    "df_reserves"
   ]
  },
  {
   "cell_type": "code",
   "execution_count": null,
   "metadata": {},
   "outputs": [],
   "source": [
    "display(Markdown('### save grid to file: \\n`%s`' % form.get('grid_file')))\n",
    "grid.save(form.get('grid_file'))"
   ]
  },
  {
   "cell_type": "markdown",
   "metadata": {},
   "source": [
    "### export to csv"
   ]
  },
  {
   "cell_type": "code",
   "execution_count": null,
   "metadata": {},
   "outputs": [],
   "source": [
    "if form.get('export_csv'):\n",
    "  pv_save(grid, os.path.splitext(form.get('grid_file'))[0] + '.csv')"
   ]
  },
  {
   "cell_type": "markdown",
   "metadata": {},
   "source": [
    "### export to bmf (requires Maptek Vulcan)"
   ]
  },
  {
   "cell_type": "code",
   "execution_count": null,
   "metadata": {},
   "outputs": [],
   "source": [
    "r = None\n",
    "if form.get('export_bmf'):\n",
    "  try:\n",
    "    from shell_vulcan import eval_vulcan\n",
    "  except:\n",
    "    r = 'vulcan API not available'\n",
    "  finally:\n",
    "    r = eval_vulcan('from _gui import pyd_zip_extract; pyd_zip_extract(\"shell_vulcan.pyz\"); from pd_vtk import vtk_Voxel; vtk_Voxel.factory(\"%s\").to_bmf(\"%s\")' % (form.get('grid_file'), os.path.splitext(form.get('grid_file'))[0] + '.bmf'))\n",
    "else:\n",
    "  r = 'export bmf disabled'\n",
    "print(r)"
   ]
  }
 ],
 "metadata": {
  "kernelspec": {
   "display_name": "Python 3 (ipykernel)",
   "language": "python",
   "name": "python3"
  },
  "language_info": {
   "codemirror_mode": {
    "name": "ipython",
    "version": 3
   },
   "file_extension": ".py",
   "mimetype": "text/x-python",
   "name": "python",
   "nbconvert_exporter": "python",
   "pygments_lexer": "ipython3",
   "version": "3.12.3"
  }
 },
 "nbformat": 4,
 "nbformat_minor": 4
}
